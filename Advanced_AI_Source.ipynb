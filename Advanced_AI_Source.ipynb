{
 "cells": [
  {
   "cell_type": "code",
   "execution_count": 1,
   "metadata": {
    "id": "J81Lf05K8o7O"
   },
   "outputs": [],
   "source": [
    "import numpy as np\n",
    "import torch\n",
    "import torch.nn as nn\n",
    "import torch.nn.functional as F\n",
    "import torchvision\n",
    "import torchvision.transforms as transforms\n",
    "import torch.optim as optim\n",
    "import matplotlib\n",
    "import matplotlib.pyplot as plt"
   ]
  },
  {
   "cell_type": "code",
   "execution_count": null,
   "metadata": {},
   "outputs": [],
   "source": [
    "print(\"hello\")"
   ]
  },
  {
   "cell_type": "code",
   "execution_count": null,
   "metadata": {
    "colab": {
     "base_uri": "https://localhost:8080/",
     "height": 102,
     "referenced_widgets": [
      "dbc2277b49274ddb96eead1128cee33a",
      "0fb1c99b2206456b97267c96dbffbf9d",
      "01f1c4d8a24843f79b09cb5cfc2cc975",
      "8263364dbcd14b998229afe53886ee32",
      "f743c3c819304f37b70ddbcfc353c6de",
      "983c70107c8841ec8b7096a36769ad85",
      "7af8245184d44f26ab150f1dc948c4b9",
      "ebe7bf1c396a4c138013ab64996482a5"
     ]
    },
    "id": "wPg8u7_c8xxF",
    "outputId": "245c2fe6-31e9-48ed-84a5-40ce367548da"
   },
   "outputs": [],
   "source": [
    "#LeNet\n",
    "\n",
    "\n",
    "\n",
    "#CIFAR10 Dataset\n",
    "#Training and Testing dataset/loader, from source [1]\n",
    "trainset = torchvision.datasets.CIFAR10(root='../../data', train = True, transform = transforms.Compose([transforms.Resize(32), transforms.ToTensor()]), download = True)\n",
    "\n",
    "testset = torchvision.datasets.CIFAR10(root='../../data', train = False, transform = transforms.Compose([transforms.Resize(32), transforms.ToTensor()]))\n",
    "\n",
    "#loader\n",
    "trainloader = torch.utils.data.DataLoader(dataset = trainset, batch_size = 4, shuffle = True)\n",
    "\n",
    "testloader = torch.utils.data.DataLoader(dataset = testset, batch_size = 4, shuffle = False)\n",
    "\n",
    "classes = [\"airplane\", \"automobile\", \"bird\", \"cat\", \"deer\", \"dog\", \"frog\", \"horse\", \"ship\", \"truck\"]\n",
    "\n",
    "device = torch.device(\"cuda:0\" if torch.cuda.is_available() else \"cpu\")\n",
    "\n",
    "#Network, implementation carried out by myself\n",
    "class Net(nn.Module):\n",
    "    def __init__(self):\n",
    "        super(Net, self).__init__()\n",
    "        self.conv1 = nn.Conv2d(3, 6, 5)\n",
    "        \n",
    "        self.pool1 = nn.AvgPool2d(2 , 2)\n",
    "\n",
    "        self.conv2 = nn.Conv2d(6, 16, 5)\n",
    "        \n",
    "        self.pool2 = nn.AvgPool2d(2 , 2)\n",
    "    \n",
    "        self.fc1 = nn.Linear(16*5*5, 120)\n",
    "        self.fc2 = nn.Linear(120, 84)\n",
    "        self.fc3 = nn.Linear(84, 10)\n",
    "    \n",
    "    def forward(self, x):\n",
    "        x = self.pool1(torch.tanh(self.conv1(x)))\n",
    "        x = self.pool2(torch.tanh(self.conv2(x)))\n",
    "        \n",
    "        x = x.view(x.size(0), 16*5*5)\n",
    "        \n",
    "        x = torch.tanh(self.fc1(x))\n",
    "        x = torch.tanh(self.fc2(x))\n",
    "        x = self.fc3(x)\n",
    "        return x\n",
    "\n",
    "#pushing network to device (GPU) from source [2]\n",
    "lenet = Net().to(device)\n",
    "#End of source [2]\n",
    "#source [2] : https://stackoverflow.com/questions/50954479/using-cuda-with-pytorch\n",
    "print(\"hello\")\n",
    "#End of source [1] \n",
    "#source [1] : https://pytorch.org/tutorials/beginner/blitz/cifar10_tutorial.html#what-about-data\n"
   ]
  },
  {
   "cell_type": "code",
   "execution_count": 3,
   "metadata": {
    "id": "eYuBPlEVg92y"
   },
   "outputs": [],
   "source": [
    "#Initialising optimiser, learning rate, from source [1]\n",
    "\n",
    "criterion = nn.CrossEntropyLoss()\n",
    "optimizer = optim.SGD(lenet.parameters(), lr=0.001, momentum = 0.9)"
   ]
  },
  {
   "cell_type": "code",
   "execution_count": null,
   "metadata": {
    "id": "BZWpo155g92y"
   },
   "outputs": [],
   "source": [
    "criterion = nn.CrossEntropyLoss()\n",
    "optimizer = optim.SGD(lenet.parameters(), lr=0.01, momentum = 0.9)"
   ]
  },
  {
   "cell_type": "code",
   "execution_count": null,
   "metadata": {
    "id": "rSP-S2gfg92z"
   },
   "outputs": [],
   "source": [
    "criterion = nn.CrossEntropyLoss()\n",
    "optimizer = optim.SGD(lenet.parameters(), lr=0.0001, momentum = 0.9)"
   ]
  },
  {
   "cell_type": "code",
   "execution_count": null,
   "metadata": {
    "id": "9eQ8Ubscg92z"
   },
   "outputs": [],
   "source": [
    "criterion = nn.CrossEntropyLoss()\n",
    "optimizer = optim.ADAM(lenet.parameters(), lr=0.001)"
   ]
  },
  {
   "cell_type": "code",
   "execution_count": null,
   "metadata": {
    "id": "hkNTDQVfg92z"
   },
   "outputs": [],
   "source": [
    "criterion = nn.CrossEntropyLoss()\n",
    "optimizer = optim.RMSProp(lenet.parameters(), lr=0.001)\n",
    "\n",
    "#End of source [1] \n",
    "#source [1] : https://pytorch.org/tutorials/beginner/blitz/cifar10_tutorial.html#what-about-data"
   ]
  },
  {
   "cell_type": "code",
   "execution_count": 4,
   "metadata": {
    "colab": {
     "base_uri": "https://localhost:8080/"
    },
    "id": "4NcVJeCKINRq",
    "outputId": "b96a2500-39d9-4640-8194-b9016870daf9"
   },
   "outputs": [
    {
     "name": "stdout",
     "output_type": "stream",
     "text": [
      "[1,     1] loss: 2.312\n",
      "[1,  2000] loss: 2.222\n",
      "[1,  4000] loss: 1.951\n",
      "[1,  6000] loss: 1.832\n",
      "[1,  8000] loss: 1.745\n",
      "[1, 10000] loss: 1.701\n",
      "[1, 12000] loss: 1.610\n",
      "[2,  2000] loss: 1.585\n",
      "[2,  4000] loss: 1.563\n",
      "[2,  6000] loss: 1.507\n",
      "[2,  8000] loss: 1.508\n",
      "[2, 10000] loss: 1.478\n",
      "[2, 12000] loss: 1.440\n",
      "[3,  2000] loss: 1.413\n",
      "[3,  4000] loss: 1.387\n",
      "[3,  6000] loss: 1.413\n",
      "[3,  8000] loss: 1.367\n",
      "[3, 10000] loss: 1.368\n",
      "[3, 12000] loss: 1.358\n",
      "[4,  2000] loss: 1.314\n",
      "[4,  4000] loss: 1.308\n",
      "[4,  6000] loss: 1.298\n",
      "[4,  8000] loss: 1.296\n",
      "[4, 10000] loss: 1.299\n",
      "[4, 12000] loss: 1.303\n",
      "[5,  2000] loss: 1.247\n",
      "[5,  4000] loss: 1.247\n",
      "[5,  6000] loss: 1.270\n",
      "[5,  8000] loss: 1.239\n",
      "[5, 10000] loss: 1.249\n",
      "[5, 12000] loss: 1.229\n",
      "[6,  2000] loss: 1.187\n",
      "[6,  4000] loss: 1.200\n",
      "[6,  6000] loss: 1.203\n",
      "[6,  8000] loss: 1.206\n",
      "[6, 10000] loss: 1.200\n",
      "[6, 12000] loss: 1.198\n",
      "[7,  2000] loss: 1.136\n",
      "[7,  4000] loss: 1.165\n",
      "[7,  6000] loss: 1.165\n",
      "[7,  8000] loss: 1.168\n",
      "[7, 10000] loss: 1.155\n",
      "[7, 12000] loss: 1.179\n",
      "[8,  2000] loss: 1.092\n",
      "[8,  4000] loss: 1.113\n",
      "[8,  6000] loss: 1.131\n",
      "[8,  8000] loss: 1.112\n",
      "[8, 10000] loss: 1.120\n",
      "[8, 12000] loss: 1.150\n",
      "[9,  2000] loss: 1.069\n",
      "[9,  4000] loss: 1.076\n",
      "[9,  6000] loss: 1.077\n",
      "[9,  8000] loss: 1.099\n",
      "[9, 10000] loss: 1.111\n",
      "[9, 12000] loss: 1.099\n",
      "[10,  2000] loss: 1.048\n",
      "[10,  4000] loss: 1.016\n",
      "[10,  6000] loss: 1.050\n",
      "[10,  8000] loss: 1.063\n",
      "[10, 10000] loss: 1.076\n",
      "[10, 12000] loss: 1.073\n",
      "[11,  2000] loss: 0.984\n",
      "[11,  4000] loss: 1.014\n",
      "[11,  6000] loss: 1.029\n",
      "[11,  8000] loss: 1.047\n",
      "[11, 10000] loss: 1.052\n",
      "[11, 12000] loss: 1.043\n",
      "[12,  2000] loss: 0.971\n",
      "[12,  4000] loss: 0.971\n",
      "[12,  6000] loss: 0.992\n",
      "[12,  8000] loss: 1.025\n",
      "[12, 10000] loss: 1.022\n",
      "[12, 12000] loss: 1.025\n",
      "[13,  2000] loss: 0.934\n",
      "[13,  4000] loss: 0.950\n",
      "[13,  6000] loss: 0.967\n",
      "[13,  8000] loss: 0.968\n",
      "[13, 10000] loss: 0.992\n",
      "[13, 12000] loss: 1.002\n",
      "[14,  2000] loss: 0.894\n",
      "[14,  4000] loss: 0.915\n",
      "[14,  6000] loss: 0.946\n",
      "[14,  8000] loss: 0.969\n",
      "[14, 10000] loss: 0.956\n",
      "[14, 12000] loss: 1.001\n",
      "[15,  2000] loss: 0.885\n",
      "[15,  4000] loss: 0.921\n",
      "[15,  6000] loss: 0.919\n",
      "[15,  8000] loss: 0.938\n",
      "[15, 10000] loss: 0.926\n",
      "[15, 12000] loss: 0.952\n",
      "[16,  2000] loss: 0.868\n",
      "[16,  4000] loss: 0.898\n",
      "[16,  6000] loss: 0.892\n",
      "[16,  8000] loss: 0.900\n",
      "[16, 10000] loss: 0.892\n",
      "[16, 12000] loss: 0.940\n",
      "[17,  2000] loss: 0.848\n",
      "[17,  4000] loss: 0.858\n",
      "[17,  6000] loss: 0.876\n",
      "[17,  8000] loss: 0.898\n",
      "[17, 10000] loss: 0.890\n",
      "[17, 12000] loss: 0.908\n",
      "[18,  2000] loss: 0.802\n",
      "[18,  4000] loss: 0.856\n",
      "[18,  6000] loss: 0.850\n",
      "[18,  8000] loss: 0.878\n",
      "[18, 10000] loss: 0.845\n",
      "[18, 12000] loss: 0.886\n",
      "[19,  2000] loss: 0.794\n",
      "[19,  4000] loss: 0.806\n",
      "[19,  6000] loss: 0.836\n",
      "[19,  8000] loss: 0.842\n",
      "[19, 10000] loss: 0.858\n",
      "[19, 12000] loss: 0.862\n",
      "[20,  2000] loss: 0.772\n",
      "[20,  4000] loss: 0.794\n",
      "[20,  6000] loss: 0.841\n",
      "[20,  8000] loss: 0.829\n",
      "[20, 10000] loss: 0.837\n",
      "[20, 12000] loss: 0.839\n",
      "[21,  2000] loss: 0.756\n",
      "[21,  4000] loss: 0.791\n",
      "[21,  6000] loss: 0.797\n",
      "[21,  8000] loss: 0.803\n",
      "[21, 10000] loss: 0.825\n",
      "[21, 12000] loss: 0.830\n",
      "[22,  2000] loss: 0.723\n",
      "[22,  4000] loss: 0.756\n",
      "[22,  6000] loss: 0.800\n",
      "[22,  8000] loss: 0.786\n",
      "[22, 10000] loss: 0.809\n",
      "[22, 12000] loss: 0.820\n",
      "[23,  2000] loss: 0.705\n",
      "[23,  4000] loss: 0.727\n",
      "[23,  6000] loss: 0.765\n",
      "[23,  8000] loss: 0.792\n",
      "[23, 10000] loss: 0.803\n",
      "[23, 12000] loss: 0.816\n",
      "[24,  2000] loss: 0.697\n",
      "[24,  4000] loss: 0.723\n",
      "[24,  6000] loss: 0.760\n",
      "[24,  8000] loss: 0.764\n",
      "[24, 10000] loss: 0.755\n",
      "[24, 12000] loss: 0.768\n",
      "[25,  2000] loss: 0.675\n",
      "[25,  4000] loss: 0.701\n",
      "[25,  6000] loss: 0.740\n",
      "[25,  8000] loss: 0.742\n",
      "[25, 10000] loss: 0.778\n",
      "[25, 12000] loss: 0.778\n",
      "Finished Training\n",
      "[2.3118730783462524, 1.610129101470113, 1.4396502320766449, 1.35783265376091, 1.3032662985995411, 1.2285170955508948, 1.197746606938541, 1.1785164173431695, 1.1499932795464993, 1.0988671716041862, 1.073375013636425, 1.0425019168928265, 1.0254929432980717, 1.0019680866925045, 1.000983718879521, 0.9523608578685671, 0.9395660068159923, 0.9082098327986896, 0.8855530112022534, 0.8618668084247038, 0.8394097500024363, 0.8300136445621028, 0.820194112457335, 0.8160409194217063, 0.7683711915006861, 0.7780891296938062]\n"
     ]
    }
   ],
   "source": [
    "#Training LeNet-5\n",
    "lossArrayLE = []\n",
    "#Array used to plot graph, plotting at each epoch.\n",
    "\n",
    "#Training network, from source [1]\n",
    "for epoch in range(25):  # loop over the dataset 25 times\n",
    "\n",
    "    running_loss = 0.0\n",
    "    for i, data in enumerate(trainloader, 0):\n",
    "        # get the inputs; data is a list of [inputs, labels]\n",
    "        inputs, labels = data[0].to(device), data[1].to(device)\n",
    "        # zero the parameter gradients\n",
    "        optimizer.zero_grad()\n",
    "\n",
    "        print(labels)\n",
    "        # forward + backward + optimize\n",
    "        outputs = lenet(inputs)\n",
    "        loss = criterion(outputs, labels)\n",
    "        loss.backward()\n",
    "        optimizer.step()\n",
    "\n",
    "        # print statistics, altered by me to print the first training loss\n",
    "        # and add certain results to an array for plotting.\n",
    "        running_loss += loss.item()\n",
    "        if epoch == 0 and i == 1:\n",
    "          print('[%d, %5d] loss: %.3f' %\n",
    "                  (epoch + 1, i, running_loss / 2))\n",
    "          lossArrayLE.append(running_loss/2)\n",
    "        if i % 2000 == 1999:    # print every 2000 mini-batches\n",
    "            print('[%d, %5d] loss: %.3f' %\n",
    "                  (epoch + 1, i + 1, running_loss / 2000))\n",
    "            if i == 11999:\n",
    "              lossArrayLE.append(running_loss/2000)\n",
    "            running_loss = 0.0\n",
    "\n",
    "print('Finished Training')\n",
    "#End of source [1] \n",
    "#source [1] : https://pytorch.org/tutorials/beginner/blitz/cifar10_tutorial.html#what-about-data\n",
    "\n",
    "print(lossArrayLE)"
   ]
  },
  {
   "cell_type": "code",
   "execution_count": null,
   "metadata": {
    "id": "aekjEViY9AlK"
   },
   "outputs": [],
   "source": [
    "#Save leNet-5 state from source [3]\n",
    "torch.save(lenet.state_dict(),'LeNet.pt')\n",
    "#End of source [3]\n",
    "#source [3] : https://pytorch.org/docs/stable/notes/serialization.html"
   ]
  },
  {
   "cell_type": "code",
   "execution_count": 5,
   "metadata": {
    "colab": {
     "base_uri": "https://localhost:8080/",
     "height": 282
    },
    "id": "CnGcO9kQSuYy",
    "outputId": "9d32867d-929c-4c75-b8fc-dc912f1eba3c"
   },
   "outputs": [
    {
     "data": {
      "text/plain": [
       "<function matplotlib.pyplot.show>"
      ]
     },
     "execution_count": 5,
     "metadata": {
      "tags": []
     },
     "output_type": "execute_result"
    },
    {
     "data": {
      "image/png": "[encoded data removed]",
      "text/plain": [
       "<Figure size 432x288 with 1 Axes>"
      ]
     },
     "metadata": {
      "needs_background": "light",
      "tags": []
     },
     "output_type": "display_data"
    }
   ],
   "source": [
    "#LOSS-GRAPH\n",
    "\n",
    "#matplotlib plotting from source [4]\n",
    "ypoints = np.array(lossArrayLE)\n",
    "plt.plot(ypoints)\n",
    "plt.show\n",
    "#End of source [4]\n",
    "#source [4] : https://www.w3schools.com/python/matplotlib_plotting.asp"
   ]
  },
  {
   "cell_type": "code",
   "execution_count": 6,
   "metadata": {
    "colab": {
     "base_uri": "https://localhost:8080/"
    },
    "id": "h6mdQERY8ye1",
    "outputId": "a8bddca0-ae63-461f-c7d1-9e2018201fe1"
   },
   "outputs": [
    {
     "name": "stdout",
     "output_type": "stream",
     "text": [
      "Files already downloaded and verified\n"
     ]
    }
   ],
   "source": [
    "#JECNet\n",
    "\n",
    "\n",
    "\n",
    "#CIFAR10 Dataset\n",
    "#Training and Testing dataset/loader, from source [1]\n",
    "trainset = torchvision.datasets.CIFAR10(root='../../data', train = True, transform = transforms.Compose([transforms.Resize(32), transforms.ToTensor()]), download = True)\n",
    "\n",
    "testset = torchvision.datasets.CIFAR10(root='../../data', train = False, transform = transforms.Compose([transforms.Resize(32),transforms.ToTensor()]))\n",
    "\n",
    "#loader\n",
    "trainloader = torch.utils.data.DataLoader(dataset = trainset, batch_size = 4, shuffle = True)\n",
    "\n",
    "testloader = torch.utils.data.DataLoader(dataset = testset, batch_size = 4, shuffle = False)\n",
    "\n",
    "classes = [\"airplane\", \"automobile\", \"bird\", \"cat\", \"deer\", \"dog\", \"frog\", \"horse\", \"ship\", \"truck\"]\n",
    "\n",
    "device = torch.device(\"cuda:0\" if torch.cuda.is_available() else \"cpu\")\n",
    "\n",
    "#Network, implementation carried out by myself\n",
    "class Net(nn.Module):\n",
    "    def __init__(self):\n",
    "        super(Net, self).__init__()\n",
    "        self.conv1 = nn.Conv2d(3, 36, 3)\n",
    "        self.pool1 = nn.MaxPool2d(2, 2)\n",
    "        \n",
    "        self.conv2 = nn.Conv2d(36, 180, 3)\n",
    "        self.conv3 = nn.Conv2d(180, 540, 4)\n",
    "        self.pool2 = nn.MaxPool2d(2, 2)\n",
    "    \n",
    "        self.fc1 = nn.Linear(540*5*5, 1024)\n",
    "        self.fc2 = nn.Linear(1024, 1024)\n",
    "    \n",
    "    def forward(self, x):\n",
    "        x = self.pool1(F.relu(self.conv1(x)))\n",
    "        x = F.relu(self.conv2(x))\n",
    "        x = self.pool2(F.relu(self.conv3(x)))\n",
    "        \n",
    "        x = x.view(x.size(0), 540*5*5)\n",
    "        \n",
    "        x = F.relu(self.fc1(x))\n",
    "        x = self.fc2(x)\n",
    "        return x\n",
    "\n",
    "#pushing network to device (GPU) from source [2]\n",
    "jecnet = Net().to(device)\n",
    "#End of source [2]\n",
    "#source [2] : https://stackoverflow.com/questions/50954479/using-cuda-with-pytorch\n",
    "\n",
    "criterion = nn.CrossEntropyLoss()\n",
    "optimizer = optim.SGD(jecnet.parameters(), lr=0.001, momentum=0.9)\n",
    "\n",
    "#End of source [1] \n",
    "#source [1] : https://pytorch.org/tutorials/beginner/blitz/cifar10_tutorial.html#what-about-data"
   ]
  },
  {
   "cell_type": "code",
   "execution_count": 7,
   "metadata": {
    "id": "hvazgOvVg922"
   },
   "outputs": [],
   "source": [
    "#Initialising optimiser, learning rate, from source [1]\n",
    "\n",
    "criterion = nn.CrossEntropyLoss()\n",
    "optimizer = optim.SGD(jecnet.parameters(), lr=0.001, momentum = 0.9)"
   ]
  },
  {
   "cell_type": "code",
   "execution_count": null,
   "metadata": {
    "id": "sSIlRyEEg923"
   },
   "outputs": [],
   "source": [
    "criterion = nn.CrossEntropyLoss()\n",
    "optimizer = optim.SGD(jecnet.parameters(), lr=0.01, momentum = 0.9)"
   ]
  },
  {
   "cell_type": "code",
   "execution_count": null,
   "metadata": {
    "id": "rLdgAxKFg923"
   },
   "outputs": [],
   "source": [
    "criterion = nn.CrossEntropyLoss()\n",
    "optimizer = optim.SGD(jecnet.parameters(), lr=0.0001, momentum = 0.9)"
   ]
  },
  {
   "cell_type": "code",
   "execution_count": null,
   "metadata": {
    "id": "7d-RdNHYg923"
   },
   "outputs": [],
   "source": [
    "criterion = nn.CrossEntropyLoss()\n",
    "optimizer = optim.ADAM(jecnet.parameters(), lr=0.001)"
   ]
  },
  {
   "cell_type": "code",
   "execution_count": null,
   "metadata": {
    "id": "EsdtM-E_g924"
   },
   "outputs": [],
   "source": [
    "criterion = nn.CrossEntropyLoss()\n",
    "optimizer = optim.RMSProp(jecnet.parameters(), lr=0.001)\n",
    "\n",
    "#End of source [1] \n",
    "#source [1] : https://pytorch.org/tutorials/beginner/blitz/cifar10_tutorial.html#what-about-data"
   ]
  },
  {
   "cell_type": "code",
   "execution_count": 8,
   "metadata": {
    "colab": {
     "base_uri": "https://localhost:8080/"
    },
    "id": "noMvGUJ_YWep",
    "outputId": "d86d32c2-dfbb-421f-d247-90686f9f12c6"
   },
   "outputs": [
    {
     "name": "stdout",
     "output_type": "stream",
     "text": [
      "[1,     1] loss: 6.919\n",
      "[1,  2000] loss: 2.403\n",
      "[1,  4000] loss: 1.922\n",
      "[1,  6000] loss: 1.691\n",
      "[1,  8000] loss: 1.587\n",
      "[1, 10000] loss: 1.461\n",
      "[1, 12000] loss: 1.389\n",
      "[2,  2000] loss: 1.270\n",
      "[2,  4000] loss: 1.224\n",
      "[2,  6000] loss: 1.167\n",
      "[2,  8000] loss: 1.137\n",
      "[2, 10000] loss: 1.084\n",
      "[2, 12000] loss: 1.040\n",
      "[3,  2000] loss: 0.921\n",
      "[3,  4000] loss: 0.915\n",
      "[3,  6000] loss: 0.908\n",
      "[3,  8000] loss: 0.884\n",
      "[3, 10000] loss: 0.869\n",
      "[3, 12000] loss: 0.850\n",
      "[4,  2000] loss: 0.698\n",
      "[4,  4000] loss: 0.680\n",
      "[4,  6000] loss: 0.689\n",
      "[4,  8000] loss: 0.688\n",
      "[4, 10000] loss: 0.694\n",
      "[4, 12000] loss: 0.668\n",
      "[5,  2000] loss: 0.477\n",
      "[5,  4000] loss: 0.476\n",
      "[5,  6000] loss: 0.493\n",
      "[5,  8000] loss: 0.513\n",
      "[5, 10000] loss: 0.521\n",
      "[5, 12000] loss: 0.508\n",
      "[6,  2000] loss: 0.288\n",
      "[6,  4000] loss: 0.307\n",
      "[6,  6000] loss: 0.321\n",
      "[6,  8000] loss: 0.316\n",
      "[6, 10000] loss: 0.332\n",
      "[6, 12000] loss: 0.360\n",
      "[7,  2000] loss: 0.142\n",
      "[7,  4000] loss: 0.158\n",
      "[7,  6000] loss: 0.169\n",
      "[7,  8000] loss: 0.178\n",
      "[7, 10000] loss: 0.196\n",
      "[7, 12000] loss: 0.212\n",
      "[8,  2000] loss: 0.086\n",
      "[8,  4000] loss: 0.089\n",
      "[8,  6000] loss: 0.102\n",
      "[8,  8000] loss: 0.109\n",
      "[8, 10000] loss: 0.123\n",
      "[8, 12000] loss: 0.114\n",
      "[9,  2000] loss: 0.049\n",
      "[9,  4000] loss: 0.057\n",
      "[9,  6000] loss: 0.078\n",
      "[9,  8000] loss: 0.079\n",
      "[9, 10000] loss: 0.093\n",
      "[9, 12000] loss: 0.101\n",
      "[10,  2000] loss: 0.030\n",
      "[10,  4000] loss: 0.036\n",
      "[10,  6000] loss: 0.042\n",
      "[10,  8000] loss: 0.058\n",
      "[10, 10000] loss: 0.064\n",
      "[10, 12000] loss: 0.059\n",
      "[11,  2000] loss: 0.034\n",
      "[11,  4000] loss: 0.030\n",
      "[11,  6000] loss: 0.030\n",
      "[11,  8000] loss: 0.052\n",
      "[11, 10000] loss: 0.054\n",
      "[11, 12000] loss: 0.064\n",
      "[12,  2000] loss: 0.026\n",
      "[12,  4000] loss: 0.020\n",
      "[12,  6000] loss: 0.033\n",
      "[12,  8000] loss: 0.032\n",
      "[12, 10000] loss: 0.028\n",
      "[12, 12000] loss: 0.039\n",
      "[13,  2000] loss: 0.020\n",
      "[13,  4000] loss: 0.037\n",
      "[13,  6000] loss: 0.030\n",
      "[13,  8000] loss: 0.023\n",
      "[13, 10000] loss: 0.020\n",
      "[13, 12000] loss: 0.031\n",
      "[14,  2000] loss: 0.022\n",
      "[14,  4000] loss: 0.022\n",
      "[14,  6000] loss: 0.028\n",
      "[14,  8000] loss: 0.034\n",
      "[14, 10000] loss: 0.033\n",
      "[14, 12000] loss: 0.025\n",
      "[15,  2000] loss: 0.011\n",
      "[15,  4000] loss: 0.013\n",
      "[15,  6000] loss: 0.018\n",
      "[15,  8000] loss: 0.024\n",
      "[15, 10000] loss: 0.019\n",
      "[15, 12000] loss: 0.024\n",
      "[16,  2000] loss: 0.008\n",
      "[16,  4000] loss: 0.015\n",
      "[16,  6000] loss: 0.015\n",
      "[16,  8000] loss: 0.022\n",
      "[16, 10000] loss: 0.017\n",
      "[16, 12000] loss: 0.022\n",
      "[17,  2000] loss: 0.007\n",
      "[17,  4000] loss: 0.007\n",
      "[17,  6000] loss: 0.012\n",
      "[17,  8000] loss: 0.005\n",
      "[17, 10000] loss: 0.011\n",
      "[17, 12000] loss: 0.028\n",
      "[18,  2000] loss: 0.012\n",
      "[18,  4000] loss: 0.015\n",
      "[18,  6000] loss: 0.020\n",
      "[18,  8000] loss: 0.012\n",
      "[18, 10000] loss: 0.021\n",
      "[18, 12000] loss: 0.033\n",
      "[19,  2000] loss: 0.024\n",
      "[19,  4000] loss: 0.023\n",
      "[19,  6000] loss: 0.010\n",
      "[19,  8000] loss: 0.020\n",
      "[19, 10000] loss: 0.022\n",
      "[19, 12000] loss: 0.020\n",
      "[20,  2000] loss: 0.016\n",
      "[20,  4000] loss: 0.007\n",
      "[20,  6000] loss: 0.015\n",
      "[20,  8000] loss: 0.017\n",
      "[20, 10000] loss: 0.024\n",
      "[20, 12000] loss: 0.022\n",
      "[21,  2000] loss: 0.009\n",
      "[21,  4000] loss: 0.014\n",
      "[21,  6000] loss: 0.010\n",
      "[21,  8000] loss: 0.015\n",
      "[21, 10000] loss: 0.025\n",
      "[21, 12000] loss: 0.026\n",
      "[22,  2000] loss: 0.009\n",
      "[22,  4000] loss: 0.017\n",
      "[22,  6000] loss: 0.010\n",
      "[22,  8000] loss: 0.006\n",
      "[22, 10000] loss: 0.008\n",
      "[22, 12000] loss: 0.010\n",
      "[23,  2000] loss: 0.014\n",
      "[23,  4000] loss: 0.009\n",
      "[23,  6000] loss: 0.012\n",
      "[23,  8000] loss: 0.011\n",
      "[23, 10000] loss: 0.007\n",
      "[23, 12000] loss: 0.014\n",
      "[24,  2000] loss: 0.003\n",
      "[24,  4000] loss: 0.004\n",
      "[24,  6000] loss: 0.006\n",
      "[24,  8000] loss: 0.005\n",
      "[24, 10000] loss: 0.009\n",
      "[24, 12000] loss: 0.003\n",
      "[25,  2000] loss: 0.008\n",
      "[25,  4000] loss: 0.017\n",
      "[25,  6000] loss: 0.009\n",
      "[25,  8000] loss: 0.002\n",
      "[25, 10000] loss: 0.011\n",
      "[25, 12000] loss: 0.011\n",
      "Finished Training\n",
      "[6.919004201889038, 1.3890623701438307, 1.03975426976569, 0.8500811299444176, 0.6677426476180554, 0.50768950147141, 0.3598702847776249, 0.21188066434323427, 0.11401391118422066, 0.10051688769965926, 0.05909085867577747, 0.06421634921664665, 0.039142512673387996, 0.030834397977243674, 0.025352162144538427, 0.023559868709744542, 0.02194894809138412, 0.028140233518224412, 0.032503949288453925, 0.02043496059643084, 0.022225070701055925, 0.02632031673438299, 0.009654451674269957, 0.013835567204127533, 0.00255900515136418, 0.0114970029631057]\n"
     ]
    }
   ],
   "source": [
    "#Training JECNet-5\n",
    "lossArrayJEC = []\n",
    "#Array used to plot graph, plotting at each epoch.\n",
    "\n",
    "#Training network, from source [1]\n",
    "for epoch in range(25):  # loop over the dataset multiple times\n",
    "\n",
    "    running_loss = 0.0\n",
    "    for i, data in enumerate(trainloader, 0):\n",
    "        # get the inputs; data is a list of [inputs, labels]\n",
    "        inputs, labels = data[0].to(device), data[1].to(device)\n",
    "        # zero the parameter gradients\n",
    "        optimizer.zero_grad()\n",
    "\n",
    "        # forward + backward + optimize\n",
    "        outputs = jecnet(inputs)\n",
    "        loss = criterion(outputs, labels)\n",
    "        loss.backward()\n",
    "        optimizer.step()\n",
    "\n",
    "        # print statistics, altered by me to print the first training loss\n",
    "        # and add certain results to an array for plotting.\n",
    "        running_loss += loss.item()\n",
    "        if epoch == 0 and i == 1:\n",
    "          print('[%d, %5d] loss: %.3f' %\n",
    "                  (epoch + 1, i, running_loss / 2))\n",
    "          lossArrayJEC.append(running_loss/2)\n",
    "        if i % 2000 == 1999:    # print every 2000 mini-batches\n",
    "            print('[%d, %5d] loss: %.3f' %\n",
    "                  (epoch + 1, i + 1, running_loss / 2000))\n",
    "            if i == 11999:\n",
    "              lossArrayJEC.append(running_loss/2000)\n",
    "            running_loss = 0.0\n",
    "\n",
    "print('Finished Training')\n",
    "#End of source [1] \n",
    "#source [1] : https://pytorch.org/tutorials/beginner/blitz/cifar10_tutorial.html#what-about-data\n",
    "print(lossArrayJEC)"
   ]
  },
  {
   "cell_type": "code",
   "execution_count": null,
   "metadata": {
    "id": "VHv4srQZ9GKd"
   },
   "outputs": [],
   "source": [
    "#Save JECNet-5 state from source [3]\n",
    "torch.save(jecnet.state_dict(),'JECNet.pt')\n",
    "#End of source [3]\n",
    "#source [3] : https://pytorch.org/docs/stable/notes/serialization.html"
   ]
  },
  {
   "cell_type": "code",
   "execution_count": 9,
   "metadata": {
    "colab": {
     "base_uri": "https://localhost:8080/",
     "height": 282
    },
    "id": "-jkgcuBdkkkX",
    "outputId": "5274ef37-7e0b-418e-f204-93b42d2beaac"
   },
   "outputs": [
    {
     "data": {
      "text/plain": [
       "<function matplotlib.pyplot.show>"
      ]
     },
     "execution_count": 9,
     "metadata": {
      "tags": []
     },
     "output_type": "execute_result"
    },
    {
     "data": {
      "image/png": "[encoded data removed]",
      "text/plain": [
       "<Figure size 432x288 with 1 Axes>"
      ]
     },
     "metadata": {
      "needs_background": "light",
      "tags": []
     },
     "output_type": "display_data"
    }
   ],
   "source": [
    "#LOSS-GRAPH\n",
    "\n",
    "#matplotlib plotting from source [4]\n",
    "ypoints = np.array(lossArrayJEC)\n",
    "plt.plot(ypoints)\n",
    "plt.show\n",
    "#End of source [4]\n",
    "#source [4] : https://www.w3schools.com/python/matplotlib_plotting.asp"
   ]
  },
  {
   "cell_type": "code",
   "execution_count": 10,
   "metadata": {
    "colab": {
     "base_uri": "https://localhost:8080/"
    },
    "id": "KpkenWRv84NJ",
    "outputId": "97e2c804-4ccb-4b05-9cd8-0b2314e71181"
   },
   "outputs": [
    {
     "name": "stdout",
     "output_type": "stream",
     "text": [
      "Files already downloaded and verified\n"
     ]
    }
   ],
   "source": [
    "#AlexNet/ImageNet\n",
    "\n",
    "\n",
    "#CIFAR10 Dataset\n",
    "#Training and Testing dataset/loader, from source [1]\n",
    "trainset = torchvision.datasets.CIFAR10(root='../../data', train = True, transform = transforms.Compose([transforms.Resize(256), transforms.CenterCrop(224), transforms.ToTensor()]), download = True)\n",
    "\n",
    "testset = torchvision.datasets.CIFAR10(root='../../data', train = False, transform = transforms.Compose([transforms.Resize(256), transforms.CenterCrop(224),transforms.ToTensor()]))\n",
    "\n",
    "#loader\n",
    "trainloader = torch.utils.data.DataLoader(dataset = trainset, batch_size = 4, shuffle = True)\n",
    "\n",
    "testloader = torch.utils.data.DataLoader(dataset = testset, batch_size = 4, shuffle = False)\n",
    "\n",
    "classes = [\"airplane\", \"automobile\", \"bird\", \"cat\", \"deer\", \"dog\", \"frog\", \"horse\", \"ship\", \"truck\"]\n",
    "\n",
    "device = torch.device(\"cuda:0\" if torch.cuda.is_available() else \"cpu\")\n",
    "\n",
    "#Network, implementation carried out by myself\n",
    "class Net(nn.Module):\n",
    "    def __init__(self):\n",
    "        super(Net, self).__init__()\n",
    "        self.conv1 = nn.Conv2d(3, 96, 11, stride = 4)\n",
    "        self.pool1 = nn.MaxPool2d(3, 2)\n",
    "        \n",
    "        self.conv2 = nn.Conv2d(96, 256, 5)\n",
    "        self.pool2 = nn.MaxPool2d(3, 2)\n",
    "\n",
    "        self.conv3 = nn.Conv2d(256, 384, 3)\n",
    "        self.conv4 = nn.Conv2d(384, 384, 3)\n",
    "        self.conv5 = nn.Conv2d(384, 256, 3)\n",
    "        self.pool3 = nn.MaxPool2d(3, 2)\n",
    "    \n",
    "        self.fc1 = nn.Linear(256, 4096)\n",
    "        self.fc2 = nn.Linear(4096, 4096)\n",
    "        self.fc3 = nn.Linear(4096, 1000)\n",
    "    \n",
    "    def forward(self, x):\n",
    "        x = self.pool1(F.relu(self.conv1(x)))\n",
    "        x = self.pool2(F.relu(self.conv2(x)))\n",
    "        x = F.relu(self.conv3(x))\n",
    "        x = F.relu(self.conv4(x))\n",
    "        x = self.pool3(F.relu(self.conv5(x)))\n",
    "        \n",
    "        x = x.view(x.size(0), -1)\n",
    "        \n",
    "        x = F.relu(self.fc1(x))\n",
    "        x = F.relu(self.fc2(x))\n",
    "        x = self.fc3(x)\n",
    "        return x\n",
    "\n",
    "#pushing network to device (GPU) from source [2]\n",
    "alnet = Net().to(device)\n",
    "#End of source [2]\n",
    "#source [2] : https://stackoverflow.com/questions/50954479/using-cuda-with-pytorch\n",
    "\n",
    "#End of source [1] \n",
    "#source [1] : https://pytorch.org/tutorials/beginner/blitz/cifar10_tutorial.html#what-about-data"
   ]
  },
  {
   "cell_type": "code",
   "execution_count": 11,
   "metadata": {
    "id": "XDYeOTkjg926"
   },
   "outputs": [],
   "source": [
    "#Initialising optimiser, learning rate, from source [1]\n",
    "\n",
    "criterion = nn.CrossEntropyLoss()\n",
    "optimizer = optim.SGD(alnet.parameters(), lr=0.001, momentum = 0.9)"
   ]
  },
  {
   "cell_type": "code",
   "execution_count": null,
   "metadata": {
    "id": "aIzFN_X5g926"
   },
   "outputs": [],
   "source": [
    "criterion = nn.CrossEntropyLoss()\n",
    "optimizer = optim.SGD(alnet.parameters(), lr=0.01, momentum = 0.9)"
   ]
  },
  {
   "cell_type": "code",
   "execution_count": null,
   "metadata": {
    "id": "d1ZvIPeHg927"
   },
   "outputs": [],
   "source": [
    "criterion = nn.CrossEntropyLoss()\n",
    "optimizer = optim.SGD(alnet.parameters(), lr=0.0001, momentum = 0.9)"
   ]
  },
  {
   "cell_type": "code",
   "execution_count": null,
   "metadata": {
    "id": "6nLuERF0g927"
   },
   "outputs": [],
   "source": [
    "criterion = nn.CrossEntropyLoss()\n",
    "optimizer = optim.ADAM(alnet.parameters(), lr=0.001)"
   ]
  },
  {
   "cell_type": "code",
   "execution_count": null,
   "metadata": {
    "id": "3BsXVCeog927"
   },
   "outputs": [],
   "source": [
    "criterion = nn.CrossEntropyLoss()\n",
    "optimizer = optim.RMSProp(alnet.parameters(), lr=0.001)\n",
    "\n",
    "#End of source [1] \n",
    "#source [1] : https://pytorch.org/tutorials/beginner/blitz/cifar10_tutorial.html#what-about-data"
   ]
  },
  {
   "cell_type": "code",
   "execution_count": 12,
   "metadata": {
    "colab": {
     "base_uri": "https://localhost:8080/"
    },
    "id": "thZNXExMYZMa",
    "outputId": "fd518400-0a22-406e-b211-513e6efdae88"
   },
   "outputs": [
    {
     "name": "stdout",
     "output_type": "stream",
     "text": [
      "[1,     1] loss: 6.891\n",
      "[1,  2000] loss: 2.791\n",
      "[1,  4000] loss: 2.302\n",
      "[1,  6000] loss: 2.104\n",
      "[1,  8000] loss: 2.016\n",
      "[1, 10000] loss: 1.941\n",
      "[1, 12000] loss: 1.865\n",
      "[2,  2000] loss: 1.766\n",
      "[2,  4000] loss: 1.682\n",
      "[2,  6000] loss: 1.621\n",
      "[2,  8000] loss: 1.577\n",
      "[2, 10000] loss: 1.528\n",
      "[2, 12000] loss: 1.454\n",
      "[3,  2000] loss: 1.392\n",
      "[3,  4000] loss: 1.372\n",
      "[3,  6000] loss: 1.336\n",
      "[3,  8000] loss: 1.305\n",
      "[3, 10000] loss: 1.272\n",
      "[3, 12000] loss: 1.243\n",
      "[4,  2000] loss: 1.145\n",
      "[4,  4000] loss: 1.121\n",
      "[4,  6000] loss: 1.088\n",
      "[4,  8000] loss: 1.115\n",
      "[4, 10000] loss: 1.094\n",
      "[4, 12000] loss: 1.065\n",
      "[5,  2000] loss: 0.947\n",
      "[5,  4000] loss: 0.952\n",
      "[5,  6000] loss: 0.963\n",
      "[5,  8000] loss: 0.966\n",
      "[5, 10000] loss: 0.947\n",
      "[5, 12000] loss: 0.927\n",
      "[6,  2000] loss: 0.782\n",
      "[6,  4000] loss: 0.821\n",
      "[6,  6000] loss: 0.827\n",
      "[6,  8000] loss: 0.818\n",
      "[6, 10000] loss: 0.824\n",
      "[6, 12000] loss: 0.844\n",
      "[7,  2000] loss: 0.683\n",
      "[7,  4000] loss: 0.714\n",
      "[7,  6000] loss: 0.701\n",
      "[7,  8000] loss: 0.708\n",
      "[7, 10000] loss: 0.716\n",
      "[7, 12000] loss: 0.729\n",
      "[8,  2000] loss: 0.555\n",
      "[8,  4000] loss: 0.591\n",
      "[8,  6000] loss: 0.606\n",
      "[8,  8000] loss: 0.647\n",
      "[8, 10000] loss: 0.640\n",
      "[8, 12000] loss: 0.634\n",
      "[9,  2000] loss: 0.471\n",
      "[9,  4000] loss: 0.486\n",
      "[9,  6000] loss: 0.529\n",
      "[9,  8000] loss: 0.549\n",
      "[9, 10000] loss: 0.548\n",
      "[9, 12000] loss: 0.547\n",
      "[10,  2000] loss: 0.392\n",
      "[10,  4000] loss: 0.436\n",
      "[10,  6000] loss: 0.448\n",
      "[10,  8000] loss: 0.446\n",
      "[10, 10000] loss: 0.492\n",
      "[10, 12000] loss: 0.491\n",
      "[11,  2000] loss: 0.335\n",
      "[11,  4000] loss: 0.345\n",
      "[11,  6000] loss: 0.390\n",
      "[11,  8000] loss: 0.424\n",
      "[11, 10000] loss: 0.406\n",
      "[11, 12000] loss: 0.414\n",
      "[12,  2000] loss: 0.279\n",
      "[12,  4000] loss: 0.311\n",
      "[12,  6000] loss: 0.351\n",
      "[12,  8000] loss: 0.348\n",
      "[12, 10000] loss: 0.359\n",
      "[12, 12000] loss: 0.372\n",
      "[13,  2000] loss: 0.247\n",
      "[13,  4000] loss: 0.286\n",
      "[13,  6000] loss: 0.287\n",
      "[13,  8000] loss: 0.298\n",
      "[13, 10000] loss: 0.317\n",
      "[13, 12000] loss: 0.319\n",
      "[14,  2000] loss: 0.208\n",
      "[14,  4000] loss: 0.218\n",
      "[14,  6000] loss: 0.279\n",
      "[14,  8000] loss: 0.260\n",
      "[14, 10000] loss: 0.268\n",
      "[14, 12000] loss: 0.271\n",
      "[15,  2000] loss: 0.189\n",
      "[15,  4000] loss: 0.250\n",
      "[15,  6000] loss: 0.226\n",
      "[15,  8000] loss: 0.255\n",
      "[15, 10000] loss: 0.245\n",
      "[15, 12000] loss: 0.270\n",
      "[16,  2000] loss: 0.169\n",
      "[16,  4000] loss: 0.188\n",
      "[16,  6000] loss: 0.210\n",
      "[16,  8000] loss: 0.217\n",
      "[16, 10000] loss: 0.239\n",
      "[16, 12000] loss: 0.242\n",
      "[17,  2000] loss: 0.140\n",
      "[17,  4000] loss: 0.165\n",
      "[17,  6000] loss: 0.180\n",
      "[17,  8000] loss: 0.189\n",
      "[17, 10000] loss: 0.189\n",
      "[17, 12000] loss: 0.198\n",
      "[18,  2000] loss: 0.160\n",
      "[18,  4000] loss: 0.159\n",
      "[18,  6000] loss: 0.177\n",
      "[18,  8000] loss: 0.176\n",
      "[18, 10000] loss: 0.180\n",
      "[18, 12000] loss: 0.193\n",
      "[19,  2000] loss: 0.122\n",
      "[19,  4000] loss: 0.145\n",
      "[19,  6000] loss: 0.147\n",
      "[19,  8000] loss: 0.177\n",
      "[19, 10000] loss: 0.182\n",
      "[19, 12000] loss: 0.181\n",
      "[20,  2000] loss: 0.116\n",
      "[20,  4000] loss: 0.150\n",
      "[20,  6000] loss: 0.122\n",
      "[20,  8000] loss: 0.162\n",
      "[20, 10000] loss: 0.173\n",
      "[20, 12000] loss: 0.159\n",
      "[21,  2000] loss: 0.116\n",
      "[21,  4000] loss: 0.144\n",
      "[21,  6000] loss: 0.124\n",
      "[21,  8000] loss: 0.140\n",
      "[21, 10000] loss: 0.143\n",
      "[21, 12000] loss: 0.132\n",
      "[22,  2000] loss: 0.122\n",
      "[22,  4000] loss: 0.108\n",
      "[22,  6000] loss: 0.133\n",
      "[22,  8000] loss: 0.126\n",
      "[22, 10000] loss: 0.132\n",
      "[22, 12000] loss: 0.141\n",
      "[23,  2000] loss: 0.091\n",
      "[23,  4000] loss: 0.110\n",
      "[23,  6000] loss: 0.123\n",
      "[23,  8000] loss: 0.127\n",
      "[23, 10000] loss: 0.138\n",
      "[23, 12000] loss: 0.137\n",
      "[24,  2000] loss: 0.080\n",
      "[24,  4000] loss: 0.107\n",
      "[24,  6000] loss: 0.100\n",
      "[24,  8000] loss: 0.096\n",
      "[24, 10000] loss: 0.111\n",
      "[24, 12000] loss: 0.125\n",
      "[25,  2000] loss: 0.087\n",
      "[25,  4000] loss: 0.104\n",
      "[25,  6000] loss: 0.108\n",
      "[25,  8000] loss: 0.123\n",
      "[25, 10000] loss: 0.098\n",
      "[25, 12000] loss: 0.145\n",
      "Finished Training\n",
      "[6.8906097412109375, 1.8651842956542968, 1.4544610584154725, 1.2431624701209367, 1.0653336959537119, 0.9273308190163225, 0.8438158426494338, 0.7286973384818993, 0.6343245047768578, 0.5465830606650343, 0.4913208534789046, 0.4144246204610836, 0.37185187473209724, 0.3191509491547298, 0.271299806749542, 0.2697702295278359, 0.24205405869519722, 0.19795097404921422, 0.19313730958495368, 0.180507871845816, 0.1586431501853537, 0.1323201870137397, 0.14050839989592248, 0.13701371787141808, 0.1249658037628962, 0.14485731359041398]\n"
     ]
    }
   ],
   "source": [
    "#Training AlexNet/ImageNet\n",
    "\n",
    "#Training network, from source [1]\n",
    "lossArrayAL = []\n",
    "#Array used to plot graph, plotting at each epoch.\n",
    "\n",
    "for epoch in range(25):  # loop over the dataset multiple times\n",
    "\n",
    "    running_loss = 0.0\n",
    "    for i, data in enumerate(trainloader, 0):\n",
    "        # get the inputs; data is a list of [inputs, labels]\n",
    "        inputs, labels = data[0].to(device), data[1].to(device)\n",
    "        # zero the parameter gradients\n",
    "        optimizer.zero_grad()\n",
    "\n",
    "        # forward + backward + optimize\n",
    "        outputs = alnet(inputs)\n",
    "        loss = criterion(outputs, labels)\n",
    "        loss.backward()\n",
    "        optimizer.step()\n",
    "\n",
    "        # print statistics, altered by me to print the first training loss\n",
    "        # and add certain results to an array for plotting.\n",
    "        running_loss += loss.item()\n",
    "        if epoch == 0 and i == 1:\n",
    "          print('[%d, %5d] loss: %.3f' %\n",
    "                  (epoch + 1, i, running_loss / 2))\n",
    "          lossArrayAL.append(running_loss/2)\n",
    "        if i % 2000 == 1999:    # print every 2000 mini-batches\n",
    "            print('[%d, %5d] loss: %.3f' %\n",
    "                  (epoch + 1, i + 1, running_loss / 2000))\n",
    "            if i == 11999:\n",
    "              lossArrayAL.append(running_loss/2000)\n",
    "            running_loss = 0.0\n",
    "\n",
    "print('Finished Training')\n",
    "#End of source [1] \n",
    "#source [1] : https://pytorch.org/tutorials/beginner/blitz/cifar10_tutorial.html#what-about-data\n",
    "print(lossArrayAL)"
   ]
  },
  {
   "cell_type": "code",
   "execution_count": null,
   "metadata": {
    "id": "FXNzu_NB9GXW"
   },
   "outputs": [],
   "source": [
    "#Save AlexNet/ImageNet state from source [3]\n",
    "torch.save(alnet.state_dict(),'ImageNet.pt')\n",
    "#End of source [3]\n",
    "#source [3] : https://pytorch.org/docs/stable/notes/serialization.html"
   ]
  },
  {
   "cell_type": "code",
   "execution_count": 13,
   "metadata": {
    "colab": {
     "base_uri": "https://localhost:8080/",
     "height": 282
    },
    "id": "nMHHsLVJkqNY",
    "outputId": "555ae88c-0fcc-432b-a0b2-75f977f12a15"
   },
   "outputs": [
    {
     "data": {
      "text/plain": [
       "<function matplotlib.pyplot.show>"
      ]
     },
     "execution_count": 13,
     "metadata": {
      "tags": []
     },
     "output_type": "execute_result"
    },
    {
     "data": {
      "image/png": "[encoded data removed]",
      "text/plain": [
       "<Figure size 432x288 with 1 Axes>"
      ]
     },
     "metadata": {
      "needs_background": "light",
      "tags": []
     },
     "output_type": "display_data"
    }
   ],
   "source": [
    "#LOSS-GRAPH\n",
    "\n",
    "#matplotlib plotting from source [4]\n",
    "ypoints = np.array(lossArrayAL)\n",
    "plt.plot(ypoints)\n",
    "plt.show\n",
    "#End of source [4]\n",
    "#source [4] : https://www.w3schools.com/python/matplotlib_plotting.asp"
   ]
  },
  {
   "cell_type": "code",
   "execution_count": 14,
   "metadata": {
    "colab": {
     "base_uri": "https://localhost:8080/",
     "height": 286
    },
    "id": "XkZi4CaakxdC",
    "outputId": "c66a0ffc-92d9-40bb-df6f-9dfd0e89209c"
   },
   "outputs": [
    {
     "data": {
      "text/plain": [
       "<function matplotlib.pyplot.show>"
      ]
     },
     "execution_count": 14,
     "metadata": {
      "tags": []
     },
     "output_type": "execute_result"
    },
    {
     "data": {
      "image/png": "[encoded data removed]",
      "text/plain": [
       "<Figure size 432x288 with 1 Axes>"
      ]
     },
     "metadata": {
      "needs_background": "light",
      "tags": []
     },
     "output_type": "display_data"
    }
   ],
   "source": [
    "#COMPARISON LOSS-GRAPH\n",
    "\n",
    "#matplotlib plotting from source [4]\n",
    "plt.plot(np.array(lossArrayLE))\n",
    "plt.plot(np.array(lossArrayJEC))\n",
    "plt.plot(np.array(lossArrayAL))\n",
    "\n",
    "#limit height to 8 due to some results obtained from certain networks from source [5]\n",
    "plt.ylim(0,8)\n",
    "#End of source [5]\n",
    "#source [5] : https://stackoverflow.com/questions/45699759/how-do-you-limit-the-y-axis-height-in-matplotlib\n",
    "\n",
    "plt.show\n",
    "#End of source [4]\n",
    "#source [4] : https://www.w3schools.com/python/matplotlib_plotting.asp"
   ]
  },
  {
   "cell_type": "code",
   "execution_count": null,
   "metadata": {
    "id": "401ZCaXaYhUn"
   },
   "outputs": [],
   "source": [
    "#Load network from local directory to run over test set, from source [3]\n",
    "net = Net()\n",
    "net.load_state_dict(torch.load(\"LeNet.pt\", map_location=torch.device('cpu')))\n",
    "#End of source [3]\n",
    "#source [3] : https://pytorch.org/docs/stable/notes/serialization.html"
   ]
  },
  {
   "cell_type": "code",
   "execution_count": 17,
   "metadata": {
    "colab": {
     "base_uri": "https://localhost:8080/"
    },
    "id": "t2ftXF2Z9CgI",
    "outputId": "ba6177dc-7683-4b94-d1c7-e5fb262a6d26"
   },
   "outputs": [
    {
     "name": "stdout",
     "output_type": "stream",
     "text": [
      "Accuracy of the network on the 10000 test images: 70 %\n"
     ]
    }
   ],
   "source": [
    "#Using the network on the testset from source [1]\n",
    "correct = 0\n",
    "total = 0\n",
    "with torch.no_grad():\n",
    "    for data in testloader:\n",
    "        images, labels = data[0].to(device), data[1].to(device)\n",
    "        outputs = alnet(images)\n",
    "        _, predicted = torch.max(outputs.data, 1)\n",
    "        total += labels.size(0)\n",
    "        correct += (predicted == labels).sum().item()\n",
    "\n",
    "print('Accuracy of the network on the 10000 test images: %d %%' % (\n",
    "    100 * correct / total))\n",
    "#prints average of accuracy across each 10 classes\n",
    "#End of source [1] \n",
    "#source [1] : https://pytorch.org/tutorials/beginner/blitz/cifar10_tutorial.html#what-about-data"
   ]
  }
 ],
 "metadata": {
  "accelerator": "GPU",
  "colab": {
   "collapsed_sections": [],
   "name": "AAI_Coursework.ipynb",
   "provenance": []
  },
  "kernelspec": {
   "display_name": "Python 3",
   "language": "python",
   "name": "python3"
  },
  "language_info": {
   "codemirror_mode": {
    "name": "ipython",
    "version": 3
   },
   "file_extension": ".py",
   "mimetype": "text/x-python",
   "name": "python",
   "nbconvert_exporter": "python",
   "pygments_lexer": "ipython3",
   "version": "3.8.5"
  },
  "widgets": {
   "application/vnd.jupyter.widget-state+json": {
    "01f1c4d8a24843f79b09cb5cfc2cc975": {
     "model_module": "@jupyter-widgets/controls",
     "model_name": "FloatProgressModel",
     "state": {
      "_dom_classes": [],
      "_model_module": "@jupyter-widgets/controls",
      "_model_module_version": "1.5.0",
      "_model_name": "FloatProgressModel",
      "_view_count": null,
      "_view_module": "@jupyter-widgets/controls",
      "_view_module_version": "1.5.0",
      "_view_name": "ProgressView",
      "bar_style": "success",
      "description": "",
      "description_tooltip": null,
      "layout": "IPY_MODEL_983c70107c8841ec8b7096a36769ad85",
      "max": 170498071,
      "min": 0,
      "orientation": "horizontal",
      "style": "IPY_MODEL_f743c3c819304f37b70ddbcfc353c6de",
      "value": 170498071
     }
    },
    "0fb1c99b2206456b97267c96dbffbf9d": {
     "model_module": "@jupyter-widgets/base",
     "model_name": "LayoutModel",
     "state": {
      "_model_module": "@jupyter-widgets/base",
      "_model_module_version": "1.2.0",
      "_model_name": "LayoutModel",
      "_view_count": null,
      "_view_module": "@jupyter-widgets/base",
      "_view_module_version": "1.2.0",
      "_view_name": "LayoutView",
      "align_content": null,
      "align_items": null,
      "align_self": null,
      "border": null,
      "bottom": null,
      "display": null,
      "flex": null,
      "flex_flow": null,
      "grid_area": null,
      "grid_auto_columns": null,
      "grid_auto_flow": null,
      "grid_auto_rows": null,
      "grid_column": null,
      "grid_gap": null,
      "grid_row": null,
      "grid_template_areas": null,
      "grid_template_columns": null,
      "grid_template_rows": null,
      "height": null,
      "justify_content": null,
      "justify_items": null,
      "left": null,
      "margin": null,
      "max_height": null,
      "max_width": null,
      "min_height": null,
      "min_width": null,
      "object_fit": null,
      "object_position": null,
      "order": null,
      "overflow": null,
      "overflow_x": null,
      "overflow_y": null,
      "padding": null,
      "right": null,
      "top": null,
      "visibility": null,
      "width": null
     }
    },
    "7af8245184d44f26ab150f1dc948c4b9": {
     "model_module": "@jupyter-widgets/controls",
     "model_name": "DescriptionStyleModel",
     "state": {
      "_model_module": "@jupyter-widgets/controls",
      "_model_module_version": "1.5.0",
      "_model_name": "DescriptionStyleModel",
      "_view_count": null,
      "_view_module": "@jupyter-widgets/base",
      "_view_module_version": "1.2.0",
      "_view_name": "StyleView",
      "description_width": ""
     }
    },
    "8263364dbcd14b998229afe53886ee32": {
     "model_module": "@jupyter-widgets/controls",
     "model_name": "HTMLModel",
     "state": {
      "_dom_classes": [],
      "_model_module": "@jupyter-widgets/controls",
      "_model_module_version": "1.5.0",
      "_model_name": "HTMLModel",
      "_view_count": null,
      "_view_module": "@jupyter-widgets/controls",
      "_view_module_version": "1.5.0",
      "_view_name": "HTMLView",
      "description": "",
      "description_tooltip": null,
      "layout": "IPY_MODEL_ebe7bf1c396a4c138013ab64996482a5",
      "placeholder": "​",
      "style": "IPY_MODEL_7af8245184d44f26ab150f1dc948c4b9",
      "value": " 170499072/? [00:06&lt;00:00, 27940528.24it/s]"
     }
    },
    "983c70107c8841ec8b7096a36769ad85": {
     "model_module": "@jupyter-widgets/base",
     "model_name": "LayoutModel",
     "state": {
      "_model_module": "@jupyter-widgets/base",
      "_model_module_version": "1.2.0",
      "_model_name": "LayoutModel",
      "_view_count": null,
      "_view_module": "@jupyter-widgets/base",
      "_view_module_version": "1.2.0",
      "_view_name": "LayoutView",
      "align_content": null,
      "align_items": null,
      "align_self": null,
      "border": null,
      "bottom": null,
      "display": null,
      "flex": null,
      "flex_flow": null,
      "grid_area": null,
      "grid_auto_columns": null,
      "grid_auto_flow": null,
      "grid_auto_rows": null,
      "grid_column": null,
      "grid_gap": null,
      "grid_row": null,
      "grid_template_areas": null,
      "grid_template_columns": null,
      "grid_template_rows": null,
      "height": null,
      "justify_content": null,
      "justify_items": null,
      "left": null,
      "margin": null,
      "max_height": null,
      "max_width": null,
      "min_height": null,
      "min_width": null,
      "object_fit": null,
      "object_position": null,
      "order": null,
      "overflow": null,
      "overflow_x": null,
      "overflow_y": null,
      "padding": null,
      "right": null,
      "top": null,
      "visibility": null,
      "width": null
     }
    },
    "dbc2277b49274ddb96eead1128cee33a": {
     "model_module": "@jupyter-widgets/controls",
     "model_name": "HBoxModel",
     "state": {
      "_dom_classes": [],
      "_model_module": "@jupyter-widgets/controls",
      "_model_module_version": "1.5.0",
      "_model_name": "HBoxModel",
      "_view_count": null,
      "_view_module": "@jupyter-widgets/controls",
      "_view_module_version": "1.5.0",
      "_view_name": "HBoxView",
      "box_style": "",
      "children": [
       "IPY_MODEL_01f1c4d8a24843f79b09cb5cfc2cc975",
       "IPY_MODEL_8263364dbcd14b998229afe53886ee32"
      ],
      "layout": "IPY_MODEL_0fb1c99b2206456b97267c96dbffbf9d"
     }
    },
    "ebe7bf1c396a4c138013ab64996482a5": {
     "model_module": "@jupyter-widgets/base",
     "model_name": "LayoutModel",
     "state": {
      "_model_module": "@jupyter-widgets/base",
      "_model_module_version": "1.2.0",
      "_model_name": "LayoutModel",
      "_view_count": null,
      "_view_module": "@jupyter-widgets/base",
      "_view_module_version": "1.2.0",
      "_view_name": "LayoutView",
      "align_content": null,
      "align_items": null,
      "align_self": null,
      "border": null,
      "bottom": null,
      "display": null,
      "flex": null,
      "flex_flow": null,
      "grid_area": null,
      "grid_auto_columns": null,
      "grid_auto_flow": null,
      "grid_auto_rows": null,
      "grid_column": null,
      "grid_gap": null,
      "grid_row": null,
      "grid_template_areas": null,
      "grid_template_columns": null,
      "grid_template_rows": null,
      "height": null,
      "justify_content": null,
      "justify_items": null,
      "left": null,
      "margin": null,
      "max_height": null,
      "max_width": null,
      "min_height": null,
      "min_width": null,
      "object_fit": null,
      "object_position": null,
      "order": null,
      "overflow": null,
      "overflow_x": null,
      "overflow_y": null,
      "padding": null,
      "right": null,
      "top": null,
      "visibility": null,
      "width": null
     }
    },
    "f743c3c819304f37b70ddbcfc353c6de": {
     "model_module": "@jupyter-widgets/controls",
     "model_name": "ProgressStyleModel",
     "state": {
      "_model_module": "@jupyter-widgets/controls",
      "_model_module_version": "1.5.0",
      "_model_name": "ProgressStyleModel",
      "_view_count": null,
      "_view_module": "@jupyter-widgets/base",
      "_view_module_version": "1.2.0",
      "_view_name": "StyleView",
      "bar_color": null,
      "description_width": "initial"
     }
    }
   }
  }
 },
 "nbformat": 4,
 "nbformat_minor": 1
}
